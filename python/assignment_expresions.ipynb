{
 "cells": [
  {
   "cell_type": "markdown",
   "id": "7ace0f80-6fcd-4afe-ab46-3ccec7c3ca76",
   "metadata": {
    "tags": []
   },
   "source": [
    "#### 海象运算符\n",
    "海象运算符(:=)的英文原名叫Assignment Expresions ，即赋值表达式。是Python 3.8新增的语法。\n",
    "\n",
    "在介绍该运算符之前先看一个函数，函数需求如下：判断一个列表的长度是否大于7，若大于则输出该长度并直接退出"
   ]
  },
  {
   "cell_type": "code",
   "execution_count": 1,
   "id": "673c9a56-2bff-4b26-b7b2-13a183b34031",
   "metadata": {
    "tags": []
   },
   "outputs": [],
   "source": [
    "def fun(lst: list):\n",
    "    if len(lst) > 7:\n",
    "        print(f\"{len(lst)}\")\n",
    "        return\n",
    "    \n",
    "    # 其他逻辑"
   ]
  },
  {
   "cell_type": "markdown",
   "id": "76ac29c1-f87c-4957-93c7-89d4078278ca",
   "metadata": {},
   "source": [
    "可以发现函数当中存在的一个问题, `len(lst)`在命中if语句时还会在print中再被计算一次。因此我们可以对上述函数进行一次改进"
   ]
  },
  {
   "cell_type": "code",
   "execution_count": 3,
   "id": "a803d7f0-fe76-47ef-b34c-5773b1498213",
   "metadata": {
    "tags": []
   },
   "outputs": [],
   "source": [
    "def fun(lst: list):\n",
    "    n = len(lst)\n",
    "    if n > 7:\n",
    "        print(f\"{n}\")\n",
    "        return\n",
    "    \n",
    "    # 其他逻辑"
   ]
  },
  {
   "cell_type": "markdown",
   "id": "ba4196a2-790c-4e97-b090-3e46f7faefb8",
   "metadata": {
    "tags": []
   },
   "source": [
    "我们通过将计算结果保存的方式避免多次计算。\n",
    "\n",
    "此次改进之后我们可以发现n被声明在if之外，这会给人一种n非常重要，后面的代码可能还会用到。也就是说这样的写法无法表现出n是一个临时变量。\n",
    "\n",
    "海象运算符可以帮我们做到形与意合，我们可以做到进一步改进"
   ]
  },
  {
   "cell_type": "code",
   "execution_count": 5,
   "id": "028c6424-881d-4fc3-96f3-b322f8235443",
   "metadata": {
    "tags": []
   },
   "outputs": [],
   "source": [
    "def fun(lst: list):\n",
    "    n = len(lst)\n",
    "    if (n := len(lst)) > 7:\n",
    "        print(f\"{n}\")\n",
    "        return\n",
    "    \n",
    "    # 其他逻辑"
   ]
  },
  {
   "cell_type": "markdown",
   "id": "9b9389e8-1d1b-494d-a29e-068465897531",
   "metadata": {
    "tags": []
   },
   "source": [
    "到此处，从语法上看我们就可以非常明确的知道n只会在if语句内被使用。\n",
    "\n",
    "但需要注意的是，这样的写法只是一个语法糖。也就是说从n的作用域来讲if语句之后n依旧可以被正常访问。"
   ]
  }
 ],
 "metadata": {
  "kernelspec": {
   "display_name": "Python 3 (ipykernel)",
   "language": "python",
   "name": "python3"
  },
  "language_info": {
   "codemirror_mode": {
    "name": "ipython",
    "version": 3
   },
   "file_extension": ".py",
   "mimetype": "text/x-python",
   "name": "python",
   "nbconvert_exporter": "python",
   "pygments_lexer": "ipython3",
   "version": "3.10.4"
  }
 },
 "nbformat": 4,
 "nbformat_minor": 5
}
