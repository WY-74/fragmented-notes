{
 "cells": [
  {
   "cell_type": "markdown",
   "id": "4d5ec184-9993-4649-a79d-c99db4320565",
   "metadata": {},
   "source": [
    "## Allure"
   ]
  },
  {
   "cell_type": "markdown",
   "id": "974f9537-c669-40d8-9fe7-257a03c72158",
   "metadata": {
    "jp-MarkdownHeadingCollapsed": true,
    "tags": []
   },
   "source": [
    "#### 安装步骤"
   ]
  },
  {
   "cell_type": "markdown",
   "id": "84151c5d-3cc8-429c-a5d5-d448bb9a253c",
   "metadata": {},
   "source": [
    "1. 配置Jdk\n",
    "2. 配置Allure2\n",
    "    1. 下载Allure源码包到本地并解压\n",
    "    2. 将Allure本地源码中的bin路径添加到环境变量\n",
    "        - mac zsh:\n",
    "            1. 将 `export PATH=\"<bin路径>:$PATH\"` 添加到 `~/.zshrc` 中\n",
    "            2. `source ~/.zshrc` 或重启终端\n",
    "            3. 执行 `allure --version`, 若显示版本信息证明配置成功\n",
    "3. 安装Python第三方库: `pip install allure-pytest`"
   ]
  },
  {
   "cell_type": "markdown",
   "id": "5ded1087-efa5-4866-91a2-6835e5d642a5",
   "metadata": {
    "jp-MarkdownHeadingCollapsed": true,
    "tags": []
   },
   "source": [
    "#### 调用Allure的步骤"
   ]
  },
  {
   "cell_type": "markdown",
   "id": "fb977900-bfc1-4cc9-9447-189b281cddad",
   "metadata": {
    "tags": []
   },
   "source": [
    "1. 执行测试用例: `pytest <测试用例/模块/包> --alluredir=<测试结果存储路径>`\n",
    "2. 生成报告\n",
    "    - 生成在线报告(临时): `allure serve <测试结果存储路径>`\n",
    "    - 生成静态资源文件报告:\n",
    "        - 生成报告(默认会在当前目录生成一个存放静态报告的目录 allure-report): `allure generate <测试结果存储路径>`\n",
    "        - 打开报告: `allure open <静态报告目录>`"
   ]
  },
  {
   "cell_type": "markdown",
   "id": "04c98b88-79e5-4ead-b45e-7fa738bf45b3",
   "metadata": {
    "jp-MarkdownHeadingCollapsed": true,
    "tags": []
   },
   "source": [
    "#### 添加用例标题"
   ]
  },
  {
   "cell_type": "markdown",
   "id": "d2b5a907-2001-45c6-93a0-b3ff649ad27b",
   "metadata": {},
   "source": [
    "Allure为我们提供了三种方式自定义用例标题\n",
    "- 直接使用 `@allure.title` 为测试用例自定义标题"
   ]
  },
  {
   "cell_type": "code",
   "execution_count": 2,
   "id": "95aaf5ce-b40e-41c9-a3ec-67fad6b692f6",
   "metadata": {
    "tags": []
   },
   "outputs": [],
   "source": [
    "import allure\n",
    "\n",
    "@allure.title(\"自定义的测试用例标题\")\n",
    "def test_demo():\n",
    "    assert True"
   ]
  },
  {
   "cell_type": "markdown",
   "id": "f67703dc-95be-4ced-9d14-15e4121b7b7c",
   "metadata": {},
   "source": [
    "- `@allure.title` 允许通过占位符的方式传递参数, 可以实现测试用例标题的参数化"
   ]
  },
  {
   "cell_type": "code",
   "execution_count": 4,
   "id": "f66f786d-e3b7-4c05-953d-e5772d2605e5",
   "metadata": {
    "tags": []
   },
   "outputs": [],
   "source": [
    "import allure\n",
    "import pytest\n",
    "\n",
    "@allure.title(\"参数1({param1})与参数2({param2})之和\")\n",
    "@pytest.mark.parametrize(\"param1, param2, expected\", [[1, 1, 2], [2, 3, 5]])\n",
    "def test_demo(param1, param2, expected):\n",
    "    assert param1 + param2 == expected"
   ]
  },
  {
   "cell_type": "markdown",
   "id": "c357e603-d283-4564-a7b7-bc4c0bd5b5dc",
   "metadata": {},
   "source": [
    "注意我们利用占位符自定义用例时写入的是普通的字符串, 不需要在字符串前加 `f` 。"
   ]
  },
  {
   "cell_type": "markdown",
   "id": "3e755bfe-3356-4f46-820d-3a22aa8628aa",
   "metadata": {},
   "source": [
    "- 假设希望在用例执行成功之后显示固定用例名, 不成功的用例标题再参数化, 我们可以利用 `allure.dynamic.title` 在测试函数/方法内动态更新用例名字。"
   ]
  },
  {
   "cell_type": "code",
   "execution_count": 3,
   "id": "3b882be9-6aae-4765-94bc-07cc31fffafc",
   "metadata": {
    "tags": []
   },
   "outputs": [],
   "source": [
    "import allure\n",
    "import pytest\n",
    "\n",
    "@allure.title(\"参数1({param1})与参数2({param2})之和\")\n",
    "@pytest.mark.parametrize(\"param1, param2, expected\", [[1, 1, 3], [2, 3, 5]])\n",
    "def test_demo(param1, param2, expected):\n",
    "    assert param1 + param2 == expected\n",
    "    allure.dynamic.title(\"此组数据通过!\")"
   ]
  },
  {
   "cell_type": "markdown",
   "id": "11b55f8b-1395-4f7e-b219-50dea67d1741",
   "metadata": {
    "tags": []
   },
   "source": [
    "#### 添加用例步骤"
   ]
  },
  {
   "cell_type": "markdown",
   "id": "02ac3ded-f868-45bf-993e-76e5de4049f6",
   "metadata": {},
   "source": [
    "Allure为我们提供了两种编辑测试用例步骤的方法\n",
    "- 利用 `allure.step` 作为装饰器定义一个测试步骤"
   ]
  },
  {
   "cell_type": "code",
   "execution_count": 1,
   "id": "2a1c478a-c083-4a77-820d-791e4e24dd62",
   "metadata": {
    "tags": []
   },
   "outputs": [],
   "source": [
    "import allure\n",
    "\n",
    "@allure.step\n",
    "def demo_step1():\n",
    "    print(\"step1\")\n",
    "    \n",
    "@allure.step\n",
    "def demo_step2():\n",
    "    print(\"step2\")\n",
    "    \n",
    "def test_demo():\n",
    "    demo_step1()\n",
    "    demo_step2()"
   ]
  },
  {
   "cell_type": "markdown",
   "id": "b60f86a0-baa2-49ff-bed5-7695a6463341",
   "metadata": {},
   "source": [
    "- 使用 `with allure.step(\"<步骤名>\")` 的方式在用例中添加测试步骤"
   ]
  },
  {
   "cell_type": "code",
   "execution_count": 2,
   "id": "a89e7ad5-6abb-44f1-b489-718a66aed18e",
   "metadata": {
    "tags": []
   },
   "outputs": [],
   "source": [
    "import allure\n",
    "\n",
    "def test_demo():\n",
    "    with allure.step(\"测试步骤一\"):\n",
    "        print(\"step1\")\n",
    "    with allure.step(\"测试步骤二\"):\n",
    "        print(\"step2\")"
   ]
  },
  {
   "cell_type": "markdown",
   "id": "8943f02e-44a3-403e-965b-6a2ad4a23e01",
   "metadata": {},
   "source": [
    "#### 为用例添加链接"
   ]
  },
  {
   "cell_type": "markdown",
   "id": "7d4aefe9-328b-46df-83c5-4f7d7fd696f9",
   "metadata": {},
   "source": [
    "当我们希望在报告中插入bug链接或case等链接时, 我们可以根据链接类型使用Allure为我们提供的方法\n",
    "- 使用 `allure.link(url, name)` 作为装饰器添加一个普通的link链接\n",
    "- 使用 `allure.testcase(url, name)` 作为装饰器添加一个用例管理系统链接\n",
    "- 使用 `allure.issue(url, name)` 作为装饰器添加一个bug管理系统链接"
   ]
  },
  {
   "cell_type": "code",
   "execution_count": null,
   "id": "48d40513-457b-4b81-859e-61c893eaf76c",
   "metadata": {},
   "outputs": [],
   "source": []
  }
 ],
 "metadata": {
  "kernelspec": {
   "display_name": "Python 3 (ipykernel)",
   "language": "python",
   "name": "python3"
  },
  "language_info": {
   "codemirror_mode": {
    "name": "ipython",
    "version": 3
   },
   "file_extension": ".py",
   "mimetype": "text/x-python",
   "name": "python",
   "nbconvert_exporter": "python",
   "pygments_lexer": "ipython3",
   "version": "3.10.4"
  }
 },
 "nbformat": 4,
 "nbformat_minor": 5
}
