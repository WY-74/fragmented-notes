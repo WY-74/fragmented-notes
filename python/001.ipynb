{
 "cells": [
  {
   "cell_type": "markdown",
   "id": "aa8e8b7e-7e8b-4ef3-8db0-8313dba746d0",
   "metadata": {
    "tags": []
   },
   "source": [
    "## Pytest"
   ]
  },
  {
   "cell_type": "markdown",
   "id": "2c959224-b879-4540-9575-18837b09e4cc",
   "metadata": {
    "jp-MarkdownHeadingCollapsed": true,
    "tags": []
   },
   "source": [
    "#### 格式要求"
   ]
  },
  {
   "cell_type": "markdown",
   "id": "2089df37-7543-4589-98ea-28c59238a56f",
   "metadata": {},
   "source": [
    "- 文件: 以 `test_` 开头或以 `_test` 结尾\n",
    "- 类: 以 `Test` 开头\n",
    "- 方法/函数: 以 `_test` 开头\n",
    "- 测试类中不可以添加构造函数, 若添加构造函数将导致Pytest无法识别类下的测试方法"
   ]
  },
  {
   "cell_type": "markdown",
   "id": "2197bcf0-e796-44cf-ae59-8d709c0e0c2d",
   "metadata": {
    "jp-MarkdownHeadingCollapsed": true,
    "tags": []
   },
   "source": [
    "#### 断言"
   ]
  },
  {
   "cell_type": "markdown",
   "id": "725eb629-608a-4b57-847d-ffeff614856f",
   "metadata": {},
   "source": [
    "与Unittest不同, 在Pytest中我们需要使用python自带的 `assert` 关键字进行断言\n",
    "- `assert <表达式>`\n",
    "- `assert <表达式>, <\"描述信息\">`"
   ]
  },
  {
   "cell_type": "code",
   "execution_count": 1,
   "id": "072f3a16-bfb2-4473-ac0d-7122269d8174",
   "metadata": {
    "tags": []
   },
   "outputs": [],
   "source": [
    "def test_demo1(x):\n",
    "    assert x == 5\n",
    "    \n",
    "    \n",
    "def test_demo2(x):\n",
    "    assert x == 5, f\"x当前的值为{x}\""
   ]
  },
  {
   "cell_type": "markdown",
   "id": "76e774bf-1002-477c-90d1-252dc38e96cb",
   "metadata": {
    "jp-MarkdownHeadingCollapsed": true,
    "tags": []
   },
   "source": [
    "#### 前置与后置"
   ]
  },
  {
   "cell_type": "markdown",
   "id": "37e3cf52-a074-4069-aec4-04eda7ca9f80",
   "metadata": {},
   "source": [
    "- 全局模块级: `setup_module/teardown_module`\n",
    "- 类级: `setup_class/teardown_class`\n",
    "- 函数级: `setup_function/teardown_function`\n",
    "- 方法级: `setup_method/teardown_method`\n",
    "\n",
    "我们可以通过一段代码来展示各个级别的作用域(对于执行结果做了一些并不改动结构的排版，以便观看)"
   ]
  },
  {
   "cell_type": "code",
   "execution_count": 3,
   "id": "772be781-8de8-46bb-9af7-b6f4d8fd0a36",
   "metadata": {
    "tags": []
   },
   "outputs": [],
   "source": [
    "def setup_module():\n",
    "    print(\"setup_module\")\n",
    "\n",
    "def teardown_module():\n",
    "    print(\"teardown_module\")\n",
    "\n",
    "def setup_function():\n",
    "    print(\"setup_function\")\n",
    "\n",
    "def teardown_function():\n",
    "    print(\"teardown_function\")\n",
    "\n",
    "def test_function1():\n",
    "    print(\"测试函数1\")\n",
    "\n",
    "def test_function2():\n",
    "    print(\"测试函数2\")\n",
    "\n",
    "class TestDemo1:\n",
    "    def setup_class(self):\n",
    "        print(\"setup_class\")\n",
    "\n",
    "    def teardown_class(self):\n",
    "        print(\"setup_class\")\n",
    "\n",
    "    def setup_method(self):\n",
    "        print(\"setup\")\n",
    "\n",
    "    def teardwon_method(self):\n",
    "        print(\"teardwon\")\n",
    "\n",
    "    def test_fun1(self):\n",
    "        print(\"测试方法1\")\n",
    "\n",
    "    def test_fun2(self):\n",
    "        print(\"测试方法2\")\n",
    "\n",
    "\n",
    "class TestDemo2:\n",
    "    def setup_class(self):\n",
    "        print(\"setup_class\")\n",
    "\n",
    "    def teardown_class(self):\n",
    "        print(\"setup_class\")\n",
    "\n",
    "    def setup_method(self):\n",
    "        print(\"setup\")\n",
    "\n",
    "    def teardown_method(self):\n",
    "        print(\"teardwon\")\n",
    "\n",
    "    def test_fun3(self):\n",
    "        print(\"测试方法3\")\n",
    "\n",
    "# ============================= test session starts ==============================\n",
    "# collecting ... collected 5 items\n",
    "\n",
    "# test_sample.py::test_function1\n",
    "# setup_module\n",
    "# setup_function\n",
    "# PASSED                                    [ 20%]测试函数1\n",
    "# teardown_function\n",
    "\n",
    "# test_sample.py::test_function2\n",
    "# setup_function\n",
    "# PASSED                                    [ 40%]测试函数2\n",
    "# teardown_function\n",
    "\n",
    "# test_sample.py::TestDemo1::test_fun1 \n",
    "# test_sample.py::TestDemo1::test_fun2 \n",
    "# test_sample.py::TestDemo2::test_fun3\n",
    "# setup_class1\n",
    "# setup_method1\n",
    "# PASSED                              [ 60%]测试方法1\n",
    "# teardown_method1\n",
    "# setup_method1\n",
    "# PASSED                              [ 80%]测试方法2\n",
    "# teardown_method1\n",
    "# teardown_class1\n",
    "\n",
    "# Process finished with exit code 0\n",
    "# setup_class2\n",
    "# setup_method2\n",
    "# PASSED                              [100%]测试方法3\n",
    "# teardown_method2\n",
    "# teardown_class2\n",
    "# teardown_module\n",
    "\n",
    "# ============================== 5 passed in 0.20s ==============================="
   ]
  },
  {
   "cell_type": "markdown",
   "id": "1b72acf6-dc30-45b6-8b38-aabeb004af2d",
   "metadata": {
    "tags": []
   },
   "source": [
    "通过上面简单的框架，我们可以轻易的发现。\n",
    "- 在整个文件的执行过程中全局模块级作用于整个文件且仅执行一次, `setup_module` 在文件被执行时首先执行, `teardown_module`在文件内容全部执行完之后执行。\n",
    "- 类级仅作用在他的所属类当中且仅伴随类执行一次, `setup_class` 在类被执行前首先执行, `teardown_class` 在类执行完毕之后执行。\n",
    "- 我们称每一个不被任何类包含的function为函数, 函数级作用在每一个类外函数前后, `setup_function` 在每一个类外函数被执行前首先执行, `teardown_function` 在每一个类外函数执行结束之后执行。\n",
    "- 我们称每一个包含在类内的function为方法, 方法级作用在每一个类内方法前后, `setup_method` 在每一个类内方法被执行前首先执行, `teardown_method` 在每一个类内方法执行结束之后执行。"
   ]
  },
  {
   "cell_type": "markdown",
   "id": "0dda8d07-a3b6-4555-b88b-cad3f2d7dc58",
   "metadata": {
    "jp-MarkdownHeadingCollapsed": true,
    "tags": []
   },
   "source": [
    "#### 参数化"
   ]
  },
  {
   "cell_type": "markdown",
   "id": "da74a2a8-34bc-444b-a4e6-1b02b106600d",
   "metadata": {},
   "source": [
    "Pytest通过 `pytest.mark.paramterize` 装饰器帮助我们实现参数化\n",
    "- 单参数"
   ]
  },
  {
   "cell_type": "code",
   "execution_count": 1,
   "id": "b7ae63aa-b784-4555-b5de-6601d94180d7",
   "metadata": {
    "tags": []
   },
   "outputs": [],
   "source": [
    "import pytest\n",
    "\n",
    "expect_key = [\"one\", \"two\", \"three\"]\n",
    "keys = [\"one\", \"three\", \"four\"]\n",
    "\n",
    "\n",
    "@pytest.mark.parametrize(\"key\", keys)\n",
    "def test_search(key):\n",
    "    assert key in expect_key"
   ]
  },
  {
   "cell_type": "markdown",
   "id": "ec89ca5b-429a-48e7-900e-66be21fe60ba",
   "metadata": {},
   "source": [
    "上述代码实现了对元素是否包含在列表中的测试, `expect_key`是一个存放期望数据的列表, 我们把待验证的数据都存放在列表 `key` 中并把列表传递给 `pytest.mark.parametrize`。注意传入 `pytest.mark.parametrize` 的第一个参数是我们测试函数/方法的参数名，并且注意是**字符串类型**, 传入的 `pytest.mark.parametrize` 第二个参数是一个列表即存放我们待验证数据的列表。执行测试函数/方法时 `pytest.mark.parametrize` 会自行把待验证数据列表中每一个元素传入测试函数/方法中执行。"
   ]
  },
  {
   "cell_type": "markdown",
   "id": "a5ce9931-388f-4f8e-9bbf-6005e512133d",
   "metadata": {},
   "source": [
    "- 多参数"
   ]
  },
  {
   "cell_type": "code",
   "execution_count": 1,
   "id": "070c6b60-28b9-4fea-a5e1-060d5671ffe0",
   "metadata": {
    "tags": []
   },
   "outputs": [],
   "source": [
    "import pytest\n",
    "\n",
    "\n",
    "@pytest.mark.parametrize(\"username, password\", [[\"username\", \"password\"], [\"username2\", \"password2\"]])\n",
    "def test_login(username, password):\n",
    "    assert username == \"username\" and password == \"password\""
   ]
  },
  {
   "cell_type": "markdown",
   "id": "2dcd7dab-16fb-4632-99f7-b6b89d9592d3",
   "metadata": {},
   "source": [
    "上述代码模拟了一个用户名和密码的验证, 原理与单参数相同。但要注意传入 `pytest.mark.parametrize` 的第一个参数需要将测试函数/方法的所有参数放到同一个字符串中再传入, 第二个是参数是以列表嵌套的形式传入所有的待验证数据。"
   ]
  },
  {
   "cell_type": "markdown",
   "id": "ad82e39d-df82-4f33-8be1-9ff2ff031c00",
   "metadata": {},
   "source": [
    "- 为用例创建别名\n",
    "\n",
    "当我们在编译器中执行上述多参数所示的代码之后, 编译前会如何显示结果呢?\n",
    "\n",
    "![view_results](../img/view_results.png)\n",
    "\n",
    "是的, 编译器会把每一次传入的数据作为case名, 看起来并不直观。当我们需要一个更直观的case名的时候我们可以做如下的操作进行优化。"
   ]
  },
  {
   "cell_type": "code",
   "execution_count": 2,
   "id": "2dc5ab2b-72ad-4089-84e4-5e93e7727252",
   "metadata": {
    "tags": []
   },
   "outputs": [],
   "source": [
    "import pytest\n",
    "\n",
    "\n",
    "@pytest.mark.parametrize(\"username, password\",\n",
    "                         [[\"username\", \"password\"], [\"username2\", \"password2\"]], ids=[\"correct\", \"wrong\"])\n",
    "def test_login(username,password):\n",
    "    assert username == \"username\" and password == \"password\""
   ]
  },
  {
   "cell_type": "markdown",
   "id": "89d783e0-0866-4a33-a548-8e1e92068571",
   "metadata": {},
   "source": [
    "我们为 `pytest.mark.parametrize` 加入了第三个参数，这会帮助我们给case命名, ![rename_case](images/rename_case.png)\n",
    "\n",
    "需要注意的是 `ids` 列表的长度需要与数据列表的长度相等, 多或少都会报错。意味着一旦命名就必须每一个case都拥有名字。"
   ]
  },
  {
   "cell_type": "markdown",
   "id": "605dba05-effc-4812-aa89-455f820d50e5",
   "metadata": {},
   "source": [
    "- 笛卡尔积形式参数化\n",
    "\n",
    "我们在多参数过程中所有的参数都是被固定组合传入的, 那如果假设有两个序列, 我们希望两个序列中的元素分别组合进行测试我们要怎么做呢? 我们可以一起来通过代码看看如何实现参数的组合。"
   ]
  },
  {
   "cell_type": "code",
   "execution_count": 4,
   "id": "73a1479a-6ab5-47b2-8023-fa3b89bb6a9c",
   "metadata": {
    "tags": []
   },
   "outputs": [],
   "source": [
    "import pytest\n",
    "\n",
    "list_a = [1, 2, 3]\n",
    "list_b = [4, 5, 6]\n",
    "\n",
    "\n",
    "@pytest.mark.parametrize(\"b\", list_b, ids=[\"data_1\", \"data_2\", \"data_3\"])\n",
    "@pytest.mark.parametrize(\"a\", list_a, ids=[\"data_4\", \"data_5\", \"data_6\"])\n",
    "def test_sum(a, b):\n",
    "    assert a + b >= 7"
   ]
  },
  {
   "cell_type": "markdown",
   "id": "0385382b-112c-4f7f-8e18-a545357b69e4",
   "metadata": {},
   "source": [
    "上述代码是在判断两个列表中各个元素之和是否大于等于7, 我们利用 `pytest.mark.parametrize` 的叠加做到了所有组合。\n",
    "\n",
    "如此叠加 `pytest.mark.parametrize` 装饰器其实更像是内嵌循环, 在执行过程中优先执行离测试函数/方法最近的装饰器, 并携带数据去执行外侧装饰器, 当外侧数据全部执行完毕再返回内侧装饰器并重复上述步骤直至内外侧数据全部组合完毕。\n",
    "\n",
    "针对上述代码来说程序会先将 `list_a` 中的 `1` 赋值给 `a` , 带着 `a=1` 去执行外侧的装饰器, 在外侧会将 `list_b` 中的 `4` 赋值给b, 此时 `a=1, b=4` 执行测试函数内部逻辑, 执行之后继续将 `list_b` 的下一个数据赋值给 `b` 并执行测试函数内部逻辑, 此时 `a=1, b=5`, 以此类推直到list_b所有值都已经赋值给过 `b` 时程序会回到内侧装饰器, 将 `list_a` 的下一个数据赋值给 `a` ,此流程直到各个参数均为对应数据组的最后一个数据被测试函数执行为止。"
   ]
  },
  {
   "cell_type": "markdown",
   "id": "ce4162ba-5853-411f-88a6-e76f01c6f090",
   "metadata": {
    "jp-MarkdownHeadingCollapsed": true,
    "tags": []
   },
   "source": [
    "#### 标记测试用例"
   ]
  },
  {
   "cell_type": "markdown",
   "id": "fca07d4c-aca9-47f4-ab48-386fb9ef2ebc",
   "metadata": {
    "tags": []
   },
   "source": [
    "当我们希望将符合某一特征的一部分用例打包执行时, 就可以考虑为这些用例标记标签📌"
   ]
  },
  {
   "cell_type": "code",
   "execution_count": 9,
   "id": "e2e7d9ae-bb03-4fb5-9c98-1290050209d5",
   "metadata": {
    "tags": []
   },
   "outputs": [],
   "source": [
    "@pytest.mark.valid\n",
    "@pytest.mark.parametrize(\"x, y, expected\", [[99, 99, 198], [-99, -99, -198]])\n",
    "def test_valid_data(self, x, y, expected):\n",
    "    assert x + y  == expected\n",
    "\n",
    "def test_demo():\n",
    "    print(\"demo\")"
   ]
  },
  {
   "cell_type": "markdown",
   "id": "717ac7ea-f7e6-4183-b941-0943415b4be4",
   "metadata": {},
   "source": [
    "上面的代码中我们实现了两个测试函数其中之一验证两数字之和, 并通过 `pytest.mark.valid` 的方式将该用例打上 `valid` 的标签🏷。另外一个case仅为了验证标签效果。此时我们只需要通过命令行 `pytest -m \"<标签>\"` 执行测试即可。\n",
    "![执行某标签用例](images/pytest08.png)\n",
    "执行后发现我们并没有执行没有标记 `valid` 标签的用例, 并且可以发现输出的结果中是有警告的, 虽然并不影响结果但这样的显示并不友好。不必为此担心, 我们可以通过设置 `pytest.ini` 文件来让这个警告消失, 对于此文件的使用我们在本文靠后部分有详细使用方法。"
   ]
  },
  {
   "cell_type": "markdown",
   "id": "2f00a789-3be5-4c77-99da-fa5688aad923",
   "metadata": {
    "jp-MarkdownHeadingCollapsed": true,
    "tags": []
   },
   "source": [
    "#### 跳过测试"
   ]
  },
  {
   "cell_type": "markdown",
   "id": "657830a1-52b2-4928-bee5-6c8c18a0f29e",
   "metadata": {},
   "source": [
    "当我们的case由于一些特殊的情况不希望被执行时我们可以选择利用pytest提供的一些装饰器跳过这些case。\n",
    "- 利用 `pytest.mark.skip` 直接粗暴的跳过整个case"
   ]
  },
  {
   "cell_type": "code",
   "execution_count": 1,
   "id": "8e9ff446-8b5f-4d1b-83e7-b2343bb78857",
   "metadata": {
    "tags": []
   },
   "outputs": [],
   "source": [
    "import pytest\n",
    "\n",
    "@pytest.mark.skip(reason=\"This case has been skipped\")\n",
    "def test_skip():\n",
    "    print(\"down\")"
   ]
  },
  {
   "cell_type": "markdown",
   "id": "69d55f38-9a0f-49ff-8846-7fc43f826b16",
   "metadata": {},
   "source": [
    "- 当然我们并不是在任何情况都会跳过case, 此时我们可以利用 `pytest.mark.skipif` 进行一些判断"
   ]
  },
  {
   "cell_type": "code",
   "execution_count": 6,
   "id": "04867f3c-5aab-40b9-92e7-3ea3538933e4",
   "metadata": {
    "tags": []
   },
   "outputs": [],
   "source": [
    "import pytest\n",
    "import sys\n",
    "\n",
    "\n",
    "@pytest.mark.skipif(sys.platform == \"darwin\", reason=\"The execution system is Mac, we will skip this case\")\n",
    "def test_skip():\n",
    "    print(\"down\")"
   ]
  },
  {
   "cell_type": "markdown",
   "id": "36b62d31-65d4-4120-b648-3d1355ac97b4",
   "metadata": {},
   "source": [
    "上述代码中的 `sys.platform == \"darwin\"` 是在判断是不是mac系统, 如果当前执行的执行代码的系统是mac那么 `sys.platform == \"darwin\"` 为 `True` 该case会被跳过, 反之case正常执行。"
   ]
  },
  {
   "cell_type": "markdown",
   "id": "be249dd8-78c0-4607-9f62-e31d2a15352f",
   "metadata": {},
   "source": [
    "上述两种跳过方式都会直接跳过整个case, 其实我们有更灵活的方式进行跳过\n",
    "- 利用 `pytest.skip()` 实现在代码块中跳过"
   ]
  },
  {
   "cell_type": "code",
   "execution_count": 7,
   "id": "6278f17e-ace2-493c-a802-b1e2a546ec4e",
   "metadata": {
    "tags": []
   },
   "outputs": [],
   "source": [
    "import sys\n",
    "\n",
    "def test_skip():\n",
    "    print(\"start\")\n",
    "    \n",
    "    # some processes\n",
    "    \n",
    "    if sys.platform == \"darwin\":\n",
    "        pytest.skip(reason=\"The execution system is Mac, we will skip the rest of this case\")\n",
    "    print(\"end\")"
   ]
  },
  {
   "cell_type": "markdown",
   "id": "d32f465f-9c90-4882-92af-93b007b7594b",
   "metadata": {
    "jp-MarkdownHeadingCollapsed": true,
    "tags": []
   },
   "source": [
    "#### 常用命令行参数"
   ]
  },
  {
   "cell_type": "markdown",
   "id": "4f81223e-73f6-4f6f-937a-aabfb1c2feb8",
   "metadata": {},
   "source": [
    "- `--lf` : 只重新运行故障\n",
    "- `--ff` : 先运行故障再运行其余测试\n",
    "- `-x` : 用例一旦失败(fail/error)就停止运行\n",
    "- `--maxfail=<num>` : 允许的最大失败数, 当失败数达到num时停止执行\n",
    "- `-m` : 执行指定标签的用例\n",
    "- `-k` : 执行包含某个关键字的用例\n",
    "- `-v` : 打印详细日志\n",
    "- `-s` : 打印代码中的输出\n",
    "- `--collect-only` : 只收集用例，不运行\n",
    "- `--help` : 帮助文档"
   ]
  },
  {
   "cell_type": "markdown",
   "id": "c1ac7e95-08d0-446b-bbe9-9bc420764956",
   "metadata": {
    "jp-MarkdownHeadingCollapsed": true,
    "tags": []
   },
   "source": [
    "#### fixture的用法"
   ]
  },
  {
   "cell_type": "markdown",
   "id": "0ae882df-c3da-49b0-a770-43a5e8d6b284",
   "metadata": {
    "tags": []
   },
   "source": [
    "假设我们有5个case在执行前都需要登录操作, 那么我们可以借助 `setup` 来实现。但假如我们5个case中有3个需要登录剩下的并不需要登录我们应该怎么办呢？pytest为我们提供了解决办法"
   ]
  },
  {
   "cell_type": "code",
   "execution_count": 4,
   "id": "605d02bf-d2fe-4ed0-b9a1-055895baef32",
   "metadata": {
    "tags": []
   },
   "outputs": [],
   "source": [
    "import pytest\n",
    "\n",
    "@pytest.fixture()\n",
    "def login(self):\n",
    "    print(\"登录完成\")\n",
    "\n",
    "class TestDemo:\n",
    "    def test_case1(self, login):\n",
    "        print(\"case1\")\n",
    "\n",
    "    def test_case2(self, login):\n",
    "        print(\"case2\")"
   ]
  },
  {
   "cell_type": "markdown",
   "id": "1e20e1c6-6ccb-4fda-a9bf-7e02bf0622aa",
   "metadata": {},
   "source": [
    "在上面的代码块中, 我们为login方法增加了一个 `pytest.fixture` 的装饰器, 当我们需要使用login方法作为某个case的前置条件时只需要将login的函数名当做参数传入case即可"
   ]
  },
  {
   "cell_type": "markdown",
   "id": "d01c6f18-ffa1-4844-813c-ddff9fa0e679",
   "metadata": {},
   "source": [
    "同样fixture也会有作用域, 我们只需要为 `pytest.fixture` 设置 `scope`即可"
   ]
  },
  {
   "cell_type": "markdown",
   "id": "01757f7e-efed-48ef-886a-979f9cd786ea",
   "metadata": {},
   "source": [
    "- 函数级(默认方式): 每一个函数或者方法多会调用\n",
    "- 类级(scope=\"class\"): 每一个测试类只运行一次\n",
    "- 模块级(scope=\"module\"): 每一个.py文件只调用一次\n",
    "- 包级(scope=\"package\"): 每一个python包只调用一次（暂不支持）\n",
    "- 绘话级(scope=\"session\"): 每次会话只需要执行一次, 会话内所有方法及类, 模块都共享这个方法"
   ]
  },
  {
   "cell_type": "code",
   "execution_count": 5,
   "id": "ff4ece53-789b-4182-98d5-25fede121b34",
   "metadata": {
    "tags": []
   },
   "outputs": [],
   "source": [
    "import pytest\n",
    "\n",
    "\n",
    "@pytest.fixture(scope=\"class\")\n",
    "def login():\n",
    "    print(\"登录完成\")\n",
    "\n",
    "\n",
    "class TestDemo:\n",
    "    def test_case1(self, login):\n",
    "        print(\"case1\")\n",
    "\n",
    "    def test_case2(self, login):\n",
    "        print(\"case2\")"
   ]
  },
  {
   "cell_type": "markdown",
   "id": "392ae0b6-5dc9-4787-876e-041509ce2f88",
   "metadata": {},
   "source": [
    "`pytest.fixture` 其实也可以做到teardwon的功能, 但这需要 `yield` 的辅助"
   ]
  },
  {
   "cell_type": "code",
   "execution_count": 7,
   "id": "6a64164c-98ed-4c83-8310-35defe53dd1c",
   "metadata": {
    "tags": []
   },
   "outputs": [],
   "source": [
    "import pytest\n",
    "\n",
    "\n",
    "@pytest.fixture(scope=\"class\")\n",
    "def login():\n",
    "    print(\"开始登录\")\n",
    "    token = \"this is a token\"\n",
    "    yield token\n",
    "    print(\"登录已完成\")\n",
    "\n",
    "\n",
    "class TestDemo:\n",
    "    def test_case1(self, login):\n",
    "        print(login)"
   ]
  },
  {
   "cell_type": "markdown",
   "id": "18570801-c28b-4c76-9c83-6474f6d83288",
   "metadata": {},
   "source": [
    "到了此处需要渐渐开始考虑第一个问题是被 `pytest.fixture` 装饰的方法如何被更好的共用呢？"
   ]
  },
  {
   "cell_type": "markdown",
   "id": "753bdc9b-055c-40b1-8828-d2e6c1530c90",
   "metadata": {},
   "source": [
    "我们可以设想一个场景, 我们有多个待测试模块, 执行这些模块下的case前都需要进行登录的操作, 我们是一定不会为每一个模块都写一遍登录方法的。我们会选择新增一个公共模块并将登录方法写入公共模块, 在需要时导入调用即可。是的这是一个可行的方法, 但有没有更简洁的方法呢？ Pytest的框架中允许我们添加一个名为 `conftext.py` 的文件, 被写在这个文件中的方法可以免去导入的过程直接在各个模块下的case中调用"
   ]
  },
  {
   "cell_type": "code",
   "execution_count": 1,
   "id": "d9572c0b-f7d2-4a46-a2e0-41b022cbfc44",
   "metadata": {
    "tags": []
   },
   "outputs": [],
   "source": [
    "# ---- yaml中数据 -----\n",
    "- 99\n",
    "- 99\n",
    "- 198\n",
    "\n",
    "# ----- conftext.py -----\n",
    "import pytest\n",
    "import yaml\n",
    "\n",
    "@pytest.fixture()\n",
    "def get_data_yaml():\n",
    "    print(\"开始测试\")\n",
    "    with open(\"data/data_add.yaml\", \"r\") as f:\n",
    "        yield yaml.safe_load(f)\n",
    "    print(\"测试结束\")\n",
    "    \n",
    "# ----- 待测函数 -----\n",
    "class Calculator:\n",
    "    def add(self, a, b):\n",
    "\n",
    "        if a > 99 or a < -99 or b > 99 or b < -99:\n",
    "            print(\"请输入范围为【-99, 99】的整数或浮点数\")\n",
    "            return \"参数大小超出范围\"\n",
    "\n",
    "        return a + b\n",
    "    \n",
    "# ----- 测试用例 -----\n",
    "calculator = Calculator()\n",
    "\n",
    "class TestAdd:\n",
    "    def test_valid_data(self, get_data_yaml):\n",
    "        assert calculator.add(int(get_data_yaml[0]), int(get_data_yaml[1])) == int(get_data_yaml[2])"
   ]
  },
  {
   "cell_type": "markdown",
   "id": "a483ae82-b670-436e-ab95-edef49cde839",
   "metadata": {
    "jp-MarkdownHeadingCollapsed": true,
    "tags": []
   },
   "source": [
    "#### pytest.ini"
   ]
  },
  {
   "cell_type": "markdown",
   "id": "9aeca7f4-fefb-44ff-9a0d-91b79fbfbc67",
   "metadata": {},
   "source": [
    "pytest.ini是pytest的配置文件, 可以修改pytest的默认行为"
   ]
  },
  {
   "cell_type": "markdown",
   "id": "032aca96-2833-4c4a-b47d-bc2fa259db82",
   "metadata": {},
   "source": [
    "- 修改用例的命名规则\n",
    "![pytest修改用例命名规则](images/pytest01.png)"
   ]
  },
  {
   "cell_type": "markdown",
   "id": "c7d51e07-7233-4db1-b0d8-48a5a6c4f564",
   "metadata": {
    "tags": []
   },
   "source": [
    "- 修改默认写入的命令行参数\n",
    "![修改默认写入命令行参数](images/pytest02.png)"
   ]
  },
  {
   "cell_type": "markdown",
   "id": "e720e165-f85e-445c-970c-b561e29ab161",
   "metadata": {},
   "source": [
    "- 指定执行路径\n",
    "![指定执行路径](images/pytest03.png)"
   ]
  },
  {
   "cell_type": "markdown",
   "id": "68159d75-0122-4535-bbc0-1985f46ab371",
   "metadata": {},
   "source": [
    "- 忽视某些目录\n",
    "![忽略某些目录](images/pytest04.png)"
   ]
  },
  {
   "cell_type": "markdown",
   "id": "d1fa13d3-6368-44d4-8c48-313a06df2f2e",
   "metadata": {},
   "source": [
    "- 配置日志格式\n",
    "![配置日志ini](images/pytest05.png)"
   ]
  },
  {
   "cell_type": "markdown",
   "id": "22b7b5c0-6ed5-403f-bd59-20f1462147a3",
   "metadata": {
    "tags": []
   },
   "source": [
    "当我们在 `pytest.ini` 相关内容之后在测试函数/方法之中使用 `logging` 既可以在指定路径得到日志"
   ]
  },
  {
   "cell_type": "code",
   "execution_count": 11,
   "id": "4d34d202-4b96-403b-865e-19042401d35b",
   "metadata": {
    "tags": []
   },
   "outputs": [],
   "source": [
    "@pytest.mark.parametrize(\"x, y, expected\", [[99, 99, 198], [-99, -99, -198]])\n",
    "def test_valid_data(self, x, y, expected):\n",
    "    logging.info(f\"有效等价类{x}, {y}\")\n",
    "    assert x + y  == expected"
   ]
  },
  {
   "cell_type": "markdown",
   "id": "b4b58474-a339-4a51-aeca-60399778435e",
   "metadata": {},
   "source": [
    "通过pytest执行上述测试代码之后终端显示结果:\n",
    "![终端结果](images/pytest06.png)\n",
    "生成 `./log/test.log` 日志内容:\n",
    "![生成日志文件](images/pytest07.png)"
   ]
  },
  {
   "cell_type": "markdown",
   "id": "a7ac80f5-1d37-4dfa-ab51-dd447f19aecf",
   "metadata": {},
   "source": [
    "- 添加标签, 防止运行过程报警告错误\n",
    "\n",
    "是否还记得为用例添加标签的时候我们在终端中看到了警告? 此时我们就可以来结果这个警告了, 我们只需要在 `pytest.ini` 文件中添加 `markers = <标签名>` 即可\n",
    "![添加标签](images/pytest09.png)\n",
    "可以注意到图片中的例子, 当我们有多个标签需要添加时, 需要保证每一个标签各占一行。"
   ]
  },
  {
   "cell_type": "markdown",
   "id": "6c361576-9864-4b83-9d99-3e22b7a47813",
   "metadata": {
    "tags": []
   },
   "source": [
    "#### Pytest插件"
   ]
  },
  {
   "cell_type": "markdown",
   "id": "44ae0564-aa04-4fd6-9e86-7ac611da7879",
   "metadata": {
    "tags": []
   },
   "source": [
    "推荐可能会用到的插件:\n",
    "- 分布式插件: pytest-xdist\n",
    "\n",
    "在实际使用中我们可能希望Pytest可以为我们实现一些专属于当前项目的功能, 那么此时我们可以去自定义的开发Pytest插件实现我们的需求。Pytest为我们提供了很多有顺序但为实现具体功能的hook函数, 这些hook函数被穿插在每一次执行用例的过程中。因此我们可以通过实现这些hook函数的具体功能来进一步开发我们需要的插件。"
   ]
  },
  {
   "cell_type": "markdown",
   "id": "060e2901-e7b1-414f-b282-ad5a5725c09c",
   "metadata": {},
   "source": [
    "那么我们就有必要来了解一下这些hook函数, 他们被定义在Pytest源码中的 `hookspec.py` 中"
   ]
  },
  {
   "cell_type": "markdown",
   "id": "1607b3ce-2f68-4ca7-880e-9afa07c88c3d",
   "metadata": {
    "tags": []
   },
   "source": [
    "如上面所提到过的这些hook函数是有顺序的, 他们的顺序如下(来源于文章: [定制pytest插件必备之pytest hook的执行顺序](https://ceshiren.com/t/topic/8807))\n",
    "```\n",
    "root\n",
    "└── pytest_cmdline_main\n",
    "├── pytest_plugin_registered\n",
    "├── pytest_configure\n",
    "│ └── pytest_plugin_registered\n",
    "├── pytest_sessionstart\n",
    "│ ├── pytest_plugin_registered\n",
    "│ └── pytest_report_header\n",
    "├── pytest_collection\n",
    "│ ├── pytest_collectstart\n",
    "│ ├── pytest_make_collect_report\n",
    "│ │ ├── pytest_collect_file\n",
    "│ │ │ └── pytest_pycollect_makemodule\n",
    "│ │ └── pytest_pycollect_makeitem\n",
    "│ │ └── pytest_generate_tests\n",
    "│ │ └── pytest_make_parametrize_id\n",
    "│ ├── pytest_collectreport\n",
    "│ ├── pytest_itemcollected\n",
    "│ ├── pytest_collection_modifyitems\n",
    "│ └── pytest_collection_finish\n",
    "│ └── pytest_report_collectionfinish\n",
    "├── pytest_runtestloop\n",
    "│ └── pytest_runtest_protocol\n",
    "│ ├── pytest_runtest_logstart\n",
    "│ ├── pytest_runtest_setup\n",
    "│ │ └── pytest_fixture_setup\n",
    "│ ├── pytest_runtest_makereport\n",
    "│ ├── pytest_runtest_logreport\n",
    "│ │ └── pytest_report_teststatus\n",
    "│ ├── pytest_runtest_call\n",
    "│ │ └── pytest_pyfunc_call\n",
    "│ ├── pytest_runtest_teardown\n",
    "│ │ └── pytest_fixture_post_finalizer\n",
    "│ └── pytest_runtest_logfinish\n",
    "├── pytest_sessionfinish\n",
    "│ └── pytest_terminal_summary\n",
    "└── pytest_unconfigure\n",
    "```"
   ]
  },
  {
   "cell_type": "markdown",
   "id": "60262a52-040f-4da9-9efa-43d6d9afa559",
   "metadata": {},
   "source": [
    "当我们具体实现某些hook函数时, 我们只需要将这些hook函数的具体代码实现在项目根目录中的 `conftest.py` 中即可"
   ]
  },
  {
   "cell_type": "code",
   "execution_count": 1,
   "id": "6239c9c1-9b47-4f4d-8a82-41c4cfce5b6c",
   "metadata": {
    "tags": []
   },
   "outputs": [],
   "source": [
    "# 以下代码实现了通过命令行决定解析数据文件的类型\n",
    "\n",
    "import pytest\n",
    "import yaml\n",
    "import xlrd\n",
    "import csv\n",
    "import json\n",
    "\n",
    "def pytest_addoption(parser: \"Parser\", pluginmanager: \"PytestPluginManager\") -> None:\n",
    "    mygroup = parser.getgroup(name=\"wangyun\")\n",
    "    mygroup.addoption(\"--parse_data\", default=\"yaml\", help=\"Parsing different types of data files\")\n",
    "\n",
    "\n",
    "@pytest.fixture(scope=\"session\")\n",
    "def parse_data(request):\n",
    "    myenv = request.config.getoption(\"--parse_data\", default=\"yaml\")\n",
    "    if myenv == \"yaml\":\n",
    "        with open(\"data/data_add.yaml\", \"r\") as f:\n",
    "            return yaml.safe_load(f)\n",
    "    elif myenv == \"excel\":\n",
    "        table = xlrd.open_workbook(\"data/data_add.xls\").sheet_by_name(sheet_name='Sheet1')\n",
    "        data = [table.row_values(rowx=i, start_colx=0, end_colx=None) for i in range(table.nrows)]\n",
    "        return data\n",
    "    elif myenv == \"csv\":\n",
    "        with open(\"data/data_add.csv\", \"r\") as f:\n",
    "            raw = csv.reader(f)\n",
    "            data = [line for line in raw]\n",
    "        return data\n",
    "    if myenv == \"json\":\n",
    "        with open(\"data/data_add.json\", \"r\") as f:\n",
    "            raw = json.loads(f.read())\n",
    "        return list(raw.values())"
   ]
  }
 ],
 "metadata": {
  "kernelspec": {
   "display_name": "Python 3 (ipykernel)",
   "language": "python",
   "name": "python3"
  },
  "language_info": {
   "codemirror_mode": {
    "name": "ipython",
    "version": 3
   },
   "file_extension": ".py",
   "mimetype": "text/x-python",
   "name": "python",
   "nbconvert_exporter": "python",
   "pygments_lexer": "ipython3",
   "version": "3.10.4"
  }
 },
 "nbformat": 4,
 "nbformat_minor": 5
}
