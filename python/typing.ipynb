{
 "cells": [
  {
   "cell_type": "markdown",
   "id": "75ea57ce-8184-4da8-8edf-6ffa77aa1e5c",
   "metadata": {
    "tags": []
   },
   "source": [
    "### 利用typing做到更好的类型提示\n",
    "#### **mypy**\n",
    "mypy是一个可以帮助我们检查类型的第三方库，通过 `pip insatll mypy` 安装，然后执行 `mypy <py文件>` 即可自动帮我们检测数据类型是否使用正确.例如我们有这样一段代码。"
   ]
  },
  {
   "cell_type": "code",
   "execution_count": 1,
   "id": "4dea50a1-64c4-4208-aa6c-a1024e278ab4",
   "metadata": {
    "tags": []
   },
   "outputs": [],
   "source": [
    "from typing import List\n",
    "\n",
    "\n",
    "my_type = List[int]\n",
    "\n",
    "test: my_type = [1, 2, 3]"
   ]
  },
  {
   "cell_type": "markdown",
   "id": "9bc95a5d-18b8-423b-9c71-d1b13e4ca0cc",
   "metadata": {},
   "source": [
    "我们期望创建一个列表，列表内部的数据是int类型，当我们按照规矩创建 `test` 之后利用 `mypy` 检查，可以得到结果\n",
    "![success](../img/success_mypy.png)\n",
    "但是假如我们并不按规矩创建 `test` 呢？例如我们创建 `test` 为 `test: my_type = [1, 2, \"three\"]`，此时再利用 `mypy` 检查会得到结果\n",
    "![error](../img/error_mypy.png)\n",
    "是的，mypy会明确指出不合预期的数据类型，并告诉我们发生在那里"
   ]
  },
  {
   "cell_type": "markdown",
   "id": "5975e116-0eca-4b90-ba05-cb218424b94c",
   "metadata": {},
   "source": [
    "#### **List的使用**\n",
    "当我们需要列表的内部是int类型时我们可以这样操作"
   ]
  },
  {
   "cell_type": "code",
   "execution_count": 2,
   "id": "e2b9f0af-429f-4048-87d6-8fa58ced362a",
   "metadata": {
    "tags": []
   },
   "outputs": [],
   "source": [
    "from typing import List\n",
    "\n",
    "\n",
    "def test_fun(value: List[int]):\n",
    "    return sum(value)\n",
    "\n",
    "# test_fun([1, 2, 3])"
   ]
  },
  {
   "cell_type": "markdown",
   "id": "c950a126-13e3-4220-8bd3-8962ae9b3dbe",
   "metadata": {},
   "source": [
    "#### **Tuple**\n",
    "当需要传入一个元祖时我们可以使用 `Tuple`"
   ]
  },
  {
   "cell_type": "code",
   "execution_count": 3,
   "id": "b74aa972-447d-487d-ba3f-3e16279f94af",
   "metadata": {
    "tags": []
   },
   "outputs": [],
   "source": [
    "from typing import Tuple\n",
    "\n",
    "\n",
    "test: Tuple[str, int, float] = (\"one\", 2, 3.0)"
   ]
  },
  {
   "cell_type": "markdown",
   "id": "1b7714e0-3686-450d-b615-0a8db4af9d86",
   "metadata": {},
   "source": [
    "可以发现`Tuple`与`List`略有不同, `Tuple` 需要指定每一个位置上元素的类型。假如我们并不关注么偶个元素的数据类型时，我们可以直接使用内置类型 `tuple`"
   ]
  },
  {
   "cell_type": "code",
   "execution_count": 4,
   "id": "a489e1bc-2d7a-4265-a5e1-dba2e13c3986",
   "metadata": {
    "tags": []
   },
   "outputs": [],
   "source": [
    "test: tuple = (\"one\", 2, 3.0, [4, 5, 6])"
   ]
  },
  {
   "cell_type": "markdown",
   "id": "d1c632f3-21ce-4b4f-b964-8f68d2a5cb24",
   "metadata": {},
   "source": [
    "#### **Dict**\n",
    "当我们需要字典的内部键值对类型时我们可以这样操作"
   ]
  },
  {
   "cell_type": "code",
   "execution_count": 5,
   "id": "297debf8-80ab-45d8-bb62-4076ee8a6be3",
   "metadata": {
    "tags": []
   },
   "outputs": [],
   "source": [
    "from typing import Dict\n",
    "\n",
    "\n",
    "my_type = Dict[str, int]\n",
    "\n",
    "# test: my_type = {\"one\": 1, \"two\": 2, \"three\": 3}"
   ]
  },
  {
   "cell_type": "markdown",
   "id": "ccd0ee8a-48be-4195-b27f-ff71ede2969a",
   "metadata": {},
   "source": [
    "注意此段代码第2行中，str指定的是字典中每一个键的类型；int指定的是字典中每一个值的类型。"
   ]
  },
  {
   "cell_type": "markdown",
   "id": "b2419994-c875-4304-995d-9dee0fadf37c",
   "metadata": {},
   "source": [
    "#### **TypedDict**\n",
    "上面我们用 `Dict` 做到了类型提示，但假如我们不满足于此，我们想为每一个键设置不同类型的值的提示要怎么办呢？利用 `TypeDict` 可以解决这个问题。"
   ]
  },
  {
   "cell_type": "code",
   "execution_count": 6,
   "id": "108ac0db-cb5d-4c55-90c7-709662b2f4d7",
   "metadata": {
    "tags": []
   },
   "outputs": [],
   "source": [
    "from typing import TypedDict, List\n",
    "\n",
    "\n",
    "class MyType(TypedDict):\n",
    "    one: str\n",
    "    two: List[int]\n",
    "\n",
    "\n",
    "# test: MyType = {\"one\": \"str\", \"two\": [1, 2]}"
   ]
  },
  {
   "cell_type": "markdown",
   "id": "bce5b0ce-1bb2-4785-bdf6-35221cc99522",
   "metadata": {},
   "source": [
    "#### **Union**\n",
    "当我们输入的参数类型有多种可选项时可以使用 `Union`"
   ]
  },
  {
   "cell_type": "code",
   "execution_count": 7,
   "id": "891e0aa6-9c9d-46f7-8eb8-042cd6604108",
   "metadata": {
    "tags": []
   },
   "outputs": [],
   "source": [
    "from typing import Union\n",
    "\n",
    "\n",
    "def test(value: Union[str, int]):\n",
    "    return value\n",
    "\n",
    "\n",
    "# test(value=\"1\")\n",
    "# test(value=2)"
   ]
  },
  {
   "cell_type": "markdown",
   "id": "85becda2-fef5-4776-b12f-2e99039b784c",
   "metadata": {},
   "source": [
    "需要注意的是从Python3.10开始 `Union` 被替换为 `|` 意味着 `Union[X, Y]` 等价于 `X | Y`"
   ]
  },
  {
   "cell_type": "code",
   "execution_count": 8,
   "id": "db531148-d17e-4bdf-ae20-3f35a2b6c7ce",
   "metadata": {
    "tags": []
   },
   "outputs": [],
   "source": [
    "def test(value: str | int):\n",
    "    return value\n",
    "\n",
    "\n",
    "# test(value=\"1\")\n",
    "# test(value=2)"
   ]
  },
  {
   "cell_type": "markdown",
   "id": "b282ef00-dc6b-422e-9f48-915386e5eb51",
   "metadata": {},
   "source": [
    "#### **Callable**\n",
    "当你需要使用一个函数作为参数时，这个参数的类型提示可以使用 `Callable`"
   ]
  },
  {
   "cell_type": "code",
   "execution_count": 9,
   "id": "dc8ad561-9717-457f-acbc-ac95879e5760",
   "metadata": {
    "tags": []
   },
   "outputs": [],
   "source": [
    "from typing import Callable\n",
    "\n",
    "\n",
    "def test_1(x: int, y: int) -> int:\n",
    "    return x + y\n",
    "\n",
    "\n",
    "def test_2(x: int, y: int, fun: Callable) -> int:\n",
    "    output = fun(x, y)\n",
    "    return output\n",
    "\n",
    "# test_2(1, 2, test_1)"
   ]
  },
  {
   "cell_type": "markdown",
   "id": "9a97d437-c673-4a19-aa45-9788c08402f5",
   "metadata": {},
   "source": [
    "同时我们可以利用 `Callable` 指定被传入函数的参数的类型提示，规则为 `[[传入参数1的类型, 传入参数2的类型...], 返回数据的类型]`"
   ]
  },
  {
   "cell_type": "code",
   "execution_count": 10,
   "id": "11f8aa2e-c71b-4e8d-96f8-e52e1f09095e",
   "metadata": {
    "tags": []
   },
   "outputs": [],
   "source": [
    "from typing import Callable\n",
    "\n",
    "\n",
    "def test_1(x: int, y: int) -> int:\n",
    "    return x + y\n",
    "\n",
    "\n",
    "def test_2(x: int, y: int, fun: Callable[[int, int], int]) -> int:\n",
    "    output = fun(x, y)\n",
    "    return output\n",
    "\n",
    "# test_2(1, 2, test_1)"
   ]
  },
  {
   "cell_type": "markdown",
   "id": "65f4c468-5c45-4b6e-b2bb-55debfde2661",
   "metadata": {},
   "source": [
    "#### **Any**\n",
    "当传入的参数可以为任何类型的时候可以使用 `Any`"
   ]
  },
  {
   "cell_type": "code",
   "execution_count": 11,
   "id": "05682c8e-256d-40d9-8f20-7658a5a35377",
   "metadata": {
    "tags": []
   },
   "outputs": [],
   "source": [
    "from typing import Any\n",
    "\n",
    "\n",
    "def test(value: Any):\n",
    "    return value"
   ]
  },
  {
   "cell_type": "markdown",
   "id": "fb007a49-6b9e-4294-8f34-9676d1838ec8",
   "metadata": {},
   "source": [
    "#### **Optional**\n",
    "当你的函数参数有默认值，导致参数不是必须要传入的参数，那么你可以尝试使用 `Optional` 来做到类型提示"
   ]
  },
  {
   "cell_type": "code",
   "execution_count": 16,
   "id": "89392d7d-7000-4e64-a847-2278e0c5bfbe",
   "metadata": {
    "tags": []
   },
   "outputs": [],
   "source": [
    "from typing import Optional\n",
    "\n",
    "\n",
    "def test(value: Optional[int] = None):\n",
    "    return value\n",
    "\n",
    "# test()"
   ]
  },
  {
   "cell_type": "markdown",
   "id": "bef22cf4-08b1-4fc7-8327-98d4cb7324fd",
   "metadata": {},
   "source": [
    "从上面的代码我们发现, `Optional` 作用几乎和带默认值的参数等价。但其实是有些许区别的，假设我们声明参数为 `value: int = None` 用静态检查工具去检查代码时会返回错误给我们。而我们为 `value` 指定数据类型为 `Optional[int]` 但默认值为 `None` 经过静态检查工具也不会返回错误。所以其实`Optional[X]` 是等价于 `Union[X, None]` 的。"
   ]
  },
  {
   "cell_type": "markdown",
   "id": "8ec6f88c-bb90-4237-8111-c06323c7e12a",
   "metadata": {},
   "source": [
    "#### **Sequence**\n",
    "`Sequence` 所提示的是任何可以被索引的数据: 列表，元祖，字符串等"
   ]
  },
  {
   "cell_type": "code",
   "execution_count": 13,
   "id": "886303e1-54dc-4566-b4ee-16ba7dcb514b",
   "metadata": {
    "tags": []
   },
   "outputs": [],
   "source": [
    "from typing import Sequence\n",
    "\n",
    "\n",
    "def test(value: Sequence[str]):\n",
    "    print(value)\n",
    "\n",
    "# test([\"1\", \"2\", \"3\"])\n",
    "# test((\"1\", \"2\", \"3\"))\n",
    "# test(\"1233\")"
   ]
  },
  {
   "cell_type": "markdown",
   "id": "fd749c2b-ea75-4e2a-b3fd-172c1de3c719",
   "metadata": {
    "tags": []
   },
   "source": [
    "注意在定义函数时 `[]` 中只可以指定一个数据类型，意味着在我们传入的列表或者元祖等可索引数据时，内部元素的数据类型需要是统一的。"
   ]
  }
 ],
 "metadata": {
  "kernelspec": {
   "display_name": "Python 3 (ipykernel)",
   "language": "python",
   "name": "python3"
  },
  "language_info": {
   "codemirror_mode": {
    "name": "ipython",
    "version": 3
   },
   "file_extension": ".py",
   "mimetype": "text/x-python",
   "name": "python",
   "nbconvert_exporter": "python",
   "pygments_lexer": "ipython3",
   "version": "3.10.4"
  }
 },
 "nbformat": 4,
 "nbformat_minor": 5
}
