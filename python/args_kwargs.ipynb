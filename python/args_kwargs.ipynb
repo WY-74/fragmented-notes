{
 "cells": [
  {
   "cell_type": "markdown",
   "id": "472c943c-0264-4f2a-ab94-d640491cc9b3",
   "metadata": {},
   "source": [
    "### args\n",
    "接收任意多个位置参数"
   ]
  },
  {
   "cell_type": "code",
   "execution_count": 1,
   "id": "816d81af-db49-44d3-bf23-f80227d62c2d",
   "metadata": {
    "tags": []
   },
   "outputs": [
    {
     "name": "stdout",
     "output_type": "stream",
     "text": [
      "<class 'tuple'> ('a', ['b', 'c'])\n"
     ]
    }
   ],
   "source": [
    "def test(*args):\n",
    "    print(type(args), args)\n",
    "    \n",
    "test(\"a\", [\"b\", \"c\"])"
   ]
  },
  {
   "cell_type": "markdown",
   "id": "e79e1730-b125-4b83-b163-a3bc4f5fb62d",
   "metadata": {},
   "source": [
    "上面我们创建了一个简单地函数用来接收多个位置参数。\n",
    "通过执行后的结果可以看出使用 `*args` 方式接收参数会将这些参数放到一个元祖中。此时我们会想到一个问题假如我们传递参数时并不想将整个列表作为参数，而是想将列表中的每一个元素分别作为参数传入应该怎么办呢？在解决这个问题前我们先看一段代码。"
   ]
  },
  {
   "cell_type": "code",
   "execution_count": 3,
   "id": "c00cf444-08b5-4544-95f0-e1e334503dce",
   "metadata": {
    "tags": []
   },
   "outputs": [
    {
     "name": "stdout",
     "output_type": "stream",
     "text": [
      "['one', 'two', 'three']\n",
      "one two three\n"
     ]
    }
   ],
   "source": [
    "test_list = [\"one\", \"two\", \"three\"]\n",
    "\n",
    "print(test_list)\n",
    "print(*test_list)"
   ]
  },
  {
   "cell_type": "markdown",
   "id": "da5fb66c-df07-4295-960c-219f276690a8",
   "metadata": {},
   "source": [
    "执行后得到结果发现事情变得有趣了起来，`*` 可以帮助我们对列表进行解包，因此我们可以利用这样的特性，将列表中的每一个元素分别作为参数传入函数。"
   ]
  },
  {
   "cell_type": "code",
   "execution_count": 4,
   "id": "91ef0efb-64e5-44ae-9cae-1563a9a7a2b2",
   "metadata": {
    "tags": []
   },
   "outputs": [
    {
     "name": "stdout",
     "output_type": "stream",
     "text": [
      "<class 'tuple'> ('a', 'one', 'two', 'three')\n"
     ]
    }
   ],
   "source": [
    "def test(*args):\n",
    "    print(type(args), args)\n",
    "    \n",
    "test_list = [\"one\", \"two\", \"three\"]\n",
    "    \n",
    "test(\"a\", *test_list)"
   ]
  },
  {
   "cell_type": "markdown",
   "id": "40e000f6-e349-4270-ae05-1781a749aef7",
   "metadata": {},
   "source": [
    "### kwargs\n",
    "接收多个关键字参数"
   ]
  },
  {
   "cell_type": "code",
   "execution_count": 5,
   "id": "d92fe8c3-c9de-4642-bd10-7ed69f3ed4fb",
   "metadata": {
    "tags": []
   },
   "outputs": [
    {
     "name": "stdout",
     "output_type": "stream",
     "text": [
      "<class 'dict'> {'a': 'one', 'b': 'two', 'c': 'three'}\n"
     ]
    }
   ],
   "source": [
    "def test(**kwargs):\n",
    "    print(type(kwargs), kwargs)\n",
    "    \n",
    "test(a=\"one\", b=\"two\", c=\"three\")"
   ]
  },
  {
   "cell_type": "markdown",
   "id": "2dac5a26-3746-40aa-a062-677296fea1c9",
   "metadata": {},
   "source": [
    "上面我们创建了一个简单地函数用来接收多个关键字参数。\n",
    "通过执行后的结果可以看出使用 `**kwargs` 方式接收参数会将这些参数放到一个字典中。还是同样的问题，我们可不可以将一个字典中每一个键值对分别作为关键字参数传入呢？答案是可以的，与 `*` 的使用方法相同。"
   ]
  },
  {
   "cell_type": "code",
   "execution_count": 7,
   "id": "327bce4b-feb8-48de-8e9e-06d9d3e17a13",
   "metadata": {
    "tags": []
   },
   "outputs": [
    {
     "name": "stdout",
     "output_type": "stream",
     "text": [
      "<class 'dict'> {'a': 'one', 'b': 'two', 'c': 'three', 'd': 'four'}\n"
     ]
    }
   ],
   "source": [
    "def test(**kwargs):\n",
    "    print(type(kwargs), kwargs)\n",
    "    \n",
    "test_dict = {\"a\":\"one\", \"b\":\"two\", \"c\":\"three\"}\n",
    "test(**test_dict, d=\"four\")"
   ]
  },
  {
   "cell_type": "markdown",
   "id": "25ab7e3d-e2ee-4ca8-b1a2-641f631e46fa",
   "metadata": {},
   "source": [
    "***需要注意，当我们想同时传入多个位置参数和关键字参数时，需要注意 `*args` 必须在 `**kwargs` 前面***"
   ]
  }
 ],
 "metadata": {
  "kernelspec": {
   "display_name": "Python 3 (ipykernel)",
   "language": "python",
   "name": "python3"
  },
  "language_info": {
   "codemirror_mode": {
    "name": "ipython",
    "version": 3
   },
   "file_extension": ".py",
   "mimetype": "text/x-python",
   "name": "python",
   "nbconvert_exporter": "python",
   "pygments_lexer": "ipython3",
   "version": "3.10.4"
  }
 },
 "nbformat": 4,
 "nbformat_minor": 5
}
