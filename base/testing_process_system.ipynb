{
 "cells": [
  {
   "cell_type": "markdown",
   "id": "175a4bc7-ec0e-4a2f-b591-6dfc2d9b0df3",
   "metadata": {
    "tags": []
   },
   "source": [
    "### V模型"
   ]
  },
  {
   "cell_type": "markdown",
   "id": "bb60fbe4-d522-4c8f-861b-9d785c302b91",
   "metadata": {},
   "source": [
    "优点:\n",
    "- 既有底层测试又有高层测试。\n",
    "- 将开发阶段清除的表述出来, 便于控制开发的过程。"
   ]
  },
  {
   "cell_type": "markdown",
   "id": "336bb77c-6d1d-42ad-b095-972183ef8cad",
   "metadata": {
    "tags": []
   },
   "source": [
    "缺点:\n",
    "- 容易让人误解为测试是在开发完成之后的一个阶段。\n",
    "- 由于他的顺序性, 当编码完成之后正式进入测试时, 这是发现的一些bug可能不容易找到其根源, 并且代码修改起来很困难。\n",
    "- 如果需求变更较大, 导致要重复设计, 编码, 测试。返工量大。"
   ]
  },
  {
   "cell_type": "markdown",
   "id": "edf13b51-9971-4eb5-8dcf-86f471946f0b",
   "metadata": {
    "tags": []
   },
   "source": [
    "### W模型"
   ]
  },
  {
   "cell_type": "markdown",
   "id": "6eb4307f-ed6e-498c-96ac-f023e957e0f5",
   "metadata": {},
   "source": [
    "优点:\n",
    "- 将测试贯穿到整个软件的生命周期中, 且除了代码要测试, 需求, 设计等都要测试。\n",
    "- 更早的介入到软件开发中, 能尽早的发现缺陷进行修复。\n",
    "- 测试与开发独立起来, 并与开发并行。"
   ]
  },
  {
   "cell_type": "markdown",
   "id": "14e454f9-9fc7-41a1-876e-e72d7d45f536",
   "metadata": {},
   "source": [
    "缺点:\n",
    "- 无法支持迭代的开发模型。\n",
    "- 对有些项目, 开发过程中跟本没有文档产生因此无法使用该模型。\n",
    "- 对于需求和设计的测试技术要求很高, 实践起来很困难"
   ]
  },
  {
   "cell_type": "markdown",
   "id": "e2049b6f-9076-48fd-b30d-9066d2e06b02",
   "metadata": {
    "tags": []
   },
   "source": [
    "### H模型"
   ]
  },
  {
   "cell_type": "markdown",
   "id": "e98bc7f9-7ad8-49ff-834a-04e7a59f3fe3",
   "metadata": {},
   "source": [
    "优点:\n",
    "- 软件测试完全独立, 贯穿整个生命周期, 且与其他流程并行\n",
    "- 软件测试活动可以尽早准备, 尽早执行, 具有很强的灵活性"
   ]
  },
  {
   "cell_type": "markdown",
   "id": "b1ca7672-9fee-4db3-8366-064c9e8459d3",
   "metadata": {},
   "source": [
    "缺点:\n",
    "- 测试就绪点分析困难\n",
    "- 对于整个项目组的人员要求非常高"
   ]
  },
  {
   "cell_type": "markdown",
   "id": "a38e50d8-97a2-48f6-bf58-d1a81f292912",
   "metadata": {
    "tags": []
   },
   "source": [
    "### 传统测试流程"
   ]
  },
  {
   "cell_type": "markdown",
   "id": "edca5cbf-97dc-4b55-888e-ade166a3ff35",
   "metadata": {
    "tags": []
   },
   "source": [
    "单元测试 -> 集成测试 -> 冒烟测试 -> 系统测试 -> 回归测试 -> 验收测试"
   ]
  },
  {
   "cell_type": "markdown",
   "id": "0aa42dec-153f-4a68-b55f-8f5409e2f9b4",
   "metadata": {
    "tags": []
   },
   "source": [
    "- 冒烟测试: 对基本功能的验证\n",
    "- 系统测试: 需求分析 -> 测试计划 -> 测试设计 -> 用例评审 -> 测试执行 -> bug管理 -> 发布维护"
   ]
  }
 ],
 "metadata": {
  "kernelspec": {
   "display_name": "Python 3 (ipykernel)",
   "language": "python",
   "name": "python3"
  },
  "language_info": {
   "codemirror_mode": {
    "name": "ipython",
    "version": 3
   },
   "file_extension": ".py",
   "mimetype": "text/x-python",
   "name": "python",
   "nbconvert_exporter": "python",
   "pygments_lexer": "ipython3",
   "version": "3.10.4"
  },
  "toc-autonumbering": false,
  "toc-showmarkdowntxt": false
 },
 "nbformat": 4,
 "nbformat_minor": 5
}
