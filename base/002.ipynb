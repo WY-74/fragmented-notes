{
 "cells": [
  {
   "cell_type": "markdown",
   "id": "17890996-71b2-4cee-a951-ab4715200124",
   "metadata": {},
   "source": [
    "### 统一建模语言UML\n",
    "- 用例图: 商业模式, 业务角色\n",
    "- 时序图: 业务流程, 调用关系\n",
    "- 部署图: 系统架构与集成关系\n",
    "- 活动图: 业务逻辑分析"
   ]
  },
  {
   "cell_type": "markdown",
   "id": "c6659e23-4d68-41cf-89e5-75a88d4446b0",
   "metadata": {},
   "source": [
    "#### 推荐的UML制图工具\n",
    "- plantuml\n",
    "- yed\n",
    "- draw.io\n",
    "- processon\n",
    "- visio"
   ]
  },
  {
   "cell_type": "code",
   "execution_count": null,
   "id": "e2f1dbd5-3429-41ec-a83c-496b89119e7b",
   "metadata": {},
   "outputs": [],
   "source": []
  }
 ],
 "metadata": {
  "kernelspec": {
   "display_name": "Python 3 (ipykernel)",
   "language": "python",
   "name": "python3"
  },
  "language_info": {
   "codemirror_mode": {
    "name": "ipython",
    "version": 3
   },
   "file_extension": ".py",
   "mimetype": "text/x-python",
   "name": "python",
   "nbconvert_exporter": "python",
   "pygments_lexer": "ipython3",
   "version": "3.10.4"
  }
 },
 "nbformat": 4,
 "nbformat_minor": 5
}
