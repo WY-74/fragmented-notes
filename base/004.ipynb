{
 "cells": [
  {
   "cell_type": "markdown",
   "id": "6c0519f7-26ac-43f8-9f8f-3c67b61ba965",
   "metadata": {},
   "source": [
    "### 项目需求的评审与理解\n",
    "#### 需求评审\n",
    "对于需求评审可以通过两个角度切入\n",
    "- 业务场景角度\n",
    "    - 用户故事: 站在使用者的角度上会遇到的情况, 考虑每种情况在需求中是否都能展现\n",
    "    - 业务流程图: 根据用户故事能否构建出完整的业务流程\n",
    "- 功能点角度\n",
    "    - 数据约束是否全面合理\n",
    "    - 存在分支的逻辑, 描述是否覆盖所有路径\n",
    "    - 多状态流程, 状态流转描述是否合理且完整\n",
    "    - 权限描述是否明确\n",
    "#### 需求分析\n",
    "- 明确测试范围: 关注模块间关联关系\n",
    "- 明确功能点\n",
    "- 明确业务流程\n",
    "- 明确输出结果\n",
    "- 分析异常流程\n",
    "- 预估测试需要的时间和资源"
   ]
  }
 ],
 "metadata": {
  "kernelspec": {
   "display_name": "Python 3 (ipykernel)",
   "language": "python",
   "name": "python3"
  },
  "language_info": {
   "codemirror_mode": {
    "name": "ipython",
    "version": 3
   },
   "file_extension": ".py",
   "mimetype": "text/x-python",
   "name": "python",
   "nbconvert_exporter": "python",
   "pygments_lexer": "ipython3",
   "version": "3.10.4"
  }
 },
 "nbformat": 4,
 "nbformat_minor": 5
}
