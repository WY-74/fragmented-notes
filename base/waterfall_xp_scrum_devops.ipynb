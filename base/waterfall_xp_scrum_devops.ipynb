{
 "cells": [
  {
   "cell_type": "markdown",
   "id": "1b0e3e94-b4ee-4887-8217-959780f60bd5",
   "metadata": {
    "jp-MarkdownHeadingCollapsed": true,
    "tags": []
   },
   "source": [
    "#### 瀑布模型\n",
    "1. 需求分析\n",
    "2. 设计\n",
    "3. 编码\n",
    "4. 实现\n",
    "5. 软件测试\n",
    "6. 完成\n",
    "7. 维护\n",
    "\n",
    "- 优点\n",
    "    - 开发的各个阶段比较清晰\n",
    "    - 强调早期计划和需求调查\n",
    "    - 适合需求稳定的产品开发\n",
    "\n",
    "- 缺点\n",
    "    - 由于开发模型是线性的，增加了开发的风险\n",
    "    - 早期的错误可能要等到开发的后期的阶段才能发现"
   ]
  },
  {
   "cell_type": "markdown",
   "id": "5dca56e1-42e9-47ce-9263-ad0ad9e22d8b",
   "metadata": {
    "jp-MarkdownHeadingCollapsed": true,
    "tags": []
   },
   "source": [
    "#### 敏捷模型（增量迭代，小步快跑）\n",
    "- XP（极限编程）![XP](../img/xp.png)\n",
    "    - 编程方法\n",
    "        - 简单设计：要求用最简单的办法设计实现客户当下的需求\n",
    "        - 结对编程：代码可以由两个人一起完成，一个人主要考虑代码细节，另一个人关注代码整体结构\n",
    "        - 测试驱动开发\n",
    "        - 重构\n",
    "    - 小组实践\n",
    "        - 代码集体所有\n",
    "        - 编码标准\n",
    "        - 稳定高速的步伐\n",
    "        - 隐喻：帮助团队里的每一个人理解客户需求\n",
    "        - 持续集成\n",
    "    - 交付和管理\n",
    "        - 小规模发布\n",
    "        - 计划游戏：预测在小规模发布的交付日期到来之前我们要完成那些工作\n",
    "        - 完整的团队：项目中所有的成员，包含现场客户\n",
    "        - 现场客户\n",
    "        \n",
    "\n",
    "- SCRUM ![SCRUM](../img/scrum.png)\n",
    "    - 产品BACKLOG：管理产品需求，按照商业价值将需求作为列表排序\n",
    "    - SPRINT计划会议\n",
    "    - SPRINT BACKLOG"
   ]
  },
  {
   "cell_type": "markdown",
   "id": "40453825-032b-418e-8b28-dcfa350f3a16",
   "metadata": {},
   "source": [
    "#### DevOps（Development Operations）\n",
    "![devops](../img/devops.png)\n",
    "1. 持续开发\n",
    "2. 持续测试\n",
    "3. 持续集成\n",
    "4. 持续部署\n",
    "5. 持续监控\n",
    "\n",
    "- DevOps对发布的影响\n",
    "    - 减少变更范围\n",
    "    - 加强发布协调\n",
    "    - 自动化"
   ]
  }
 ],
 "metadata": {
  "kernelspec": {
   "display_name": "Python 3 (ipykernel)",
   "language": "python",
   "name": "python3"
  },
  "language_info": {
   "codemirror_mode": {
    "name": "ipython",
    "version": 3
   },
   "file_extension": ".py",
   "mimetype": "text/x-python",
   "name": "python",
   "nbconvert_exporter": "python",
   "pygments_lexer": "ipython3",
   "version": "3.10.4"
  }
 },
 "nbformat": 4,
 "nbformat_minor": 5
}
