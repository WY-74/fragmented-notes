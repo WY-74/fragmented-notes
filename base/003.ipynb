{
 "cells": [
  {
   "cell_type": "markdown",
   "id": "4c9f5f23-0d8b-4e34-bb08-31f13b9dc2b1",
   "metadata": {},
   "source": [
    "### 测试能力框架搭建参考\n",
    "在做测试方案之前我们需要对项目进行足够的了解, 包括业务流程和系统架构。这会帮助我们有效的搭建测试能力框架。可以参考[如何快速了解一家公司的架构](001.ipynb)并通过[绘制UML](002.ipynb)来尝试去快速了解项目。\n",
    "\n",
    "当我们已经熟悉了项目, 那么为此项目进行一个测试能力框架的搭建, 此处提供一个较为广普的测试能力框架图做参考。\n",
    "![测试能力架构图](images/002_1.png)"
   ]
  }
 ],
 "metadata": {
  "kernelspec": {
   "display_name": "Python 3 (ipykernel)",
   "language": "python",
   "name": "python3"
  },
  "language_info": {
   "codemirror_mode": {
    "name": "ipython",
    "version": 3
   },
   "file_extension": ".py",
   "mimetype": "text/x-python",
   "name": "python",
   "nbconvert_exporter": "python",
   "pygments_lexer": "ipython3",
   "version": "3.10.4"
  }
 },
 "nbformat": 4,
 "nbformat_minor": 5
}
