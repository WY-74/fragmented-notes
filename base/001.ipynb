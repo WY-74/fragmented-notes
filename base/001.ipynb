{
 "cells": [
  {
   "cell_type": "markdown",
   "id": "4933e002-f854-4b50-be4e-33707347371e",
   "metadata": {
    "tags": []
   },
   "source": [
    "#### 如何快速了解一个项目的架构\n",
    "- 业务流程:\n",
    "    - 商业模式\n",
    "    - 业务数据: 角色, 资源, 数据\n",
    "    - 业务流程: 角色, 行为, 数据的集成关系\n",
    "- 系统架构:\n",
    "    - 架构角色与技术栈\n",
    "        - 网关: apache/nginx/f5\n",
    "        - 应用开发: spring boot/spring cloud\n",
    "        - 通讯协议: dubbo/http/pb\n",
    "        - 数据处理: hadoop/spark/flink\n",
    "        - 数据存储: redis/mysql/oracle/es\n",
    "        - 文档存储: mongodb/hbase/neo4j\n",
    "    - 部署架构: 架构角色的集成关系"
   ]
  }
 ],
 "metadata": {
  "kernelspec": {
   "display_name": "Python 3 (ipykernel)",
   "language": "python",
   "name": "python3"
  },
  "language_info": {
   "codemirror_mode": {
    "name": "ipython",
    "version": 3
   },
   "file_extension": ".py",
   "mimetype": "text/x-python",
   "name": "python",
   "nbconvert_exporter": "python",
   "pygments_lexer": "ipython3",
   "version": "3.10.4"
  }
 },
 "nbformat": 4,
 "nbformat_minor": 5
}
